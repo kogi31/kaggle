{
 "cells": [
  {
   "cell_type": "markdown",
   "id": "f622c52d",
   "metadata": {
    "papermill": {
     "duration": 0.002053,
     "end_time": "2024-11-25T07:24:11.059498",
     "exception": false,
     "start_time": "2024-11-25T07:24:11.057445",
     "status": "completed"
    },
    "tags": []
   },
   "source": [
    "대회의 목적은 과거 대출 신청 데이터를 사용하여 신청자가 대출금을 상환할 수 있는지 여부를 예측하는 것입니다. 이는 표준 감독 분류 작업입니다.\n",
    "\n",
    "- Supervised: 레이블은 훈련 데이터에 포함되며 목표는 기능에서 레이블을 예측하는 방법을 학습하도록 모델을 훈련하는 것입니다.\n",
    "- Classification: 레이블은 이진 변수입니다. 0(대출금을 제때에 상환함), 1(대출금을 상환하기 어려움)"
   ]
  },
  {
   "cell_type": "code",
   "execution_count": null,
   "id": "148a8202",
   "metadata": {
    "papermill": {
     "duration": 0.001172,
     "end_time": "2024-11-25T07:24:11.062413",
     "exception": false,
     "start_time": "2024-11-25T07:24:11.061241",
     "status": "completed"
    },
    "tags": []
   },
   "outputs": [],
   "source": []
  }
 ],
 "metadata": {
  "kaggle": {
   "accelerator": "none",
   "dataSources": [
    {
     "databundleVersionId": 860599,
     "sourceId": 9120,
     "sourceType": "competition"
    },
    {
     "sourceId": 5301226,
     "sourceType": "kernelVersion"
    }
   ],
   "isGpuEnabled": false,
   "isInternetEnabled": true,
   "language": "python",
   "sourceType": "notebook"
  },
  "kernelspec": {
   "display_name": "Python 3",
   "language": "python",
   "name": "python3"
  },
  "language_info": {
   "codemirror_mode": {
    "name": "ipython",
    "version": 3
   },
   "file_extension": ".py",
   "mimetype": "text/x-python",
   "name": "python",
   "nbconvert_exporter": "python",
   "pygments_lexer": "ipython3",
   "version": "3.10.14"
  },
  "papermill": {
   "default_parameters": {},
   "duration": 6.493422,
   "end_time": "2024-11-25T07:24:14.479440",
   "environment_variables": {},
   "exception": null,
   "input_path": "__notebook__.ipynb",
   "output_path": "__notebook__.ipynb",
   "parameters": {},
   "start_time": "2024-11-25T07:24:07.986018",
   "version": "2.6.0"
  }
 },
 "nbformat": 4,
 "nbformat_minor": 5
}
