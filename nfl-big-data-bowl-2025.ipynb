{
 "cells": [
  {
   "cell_type": "code",
   "execution_count": 1,
   "id": "91a90d25",
   "metadata": {
    "execution": {
     "iopub.execute_input": "2024-11-27T01:07:54.202698Z",
     "iopub.status.busy": "2024-11-27T01:07:54.202314Z",
     "iopub.status.idle": "2024-11-27T01:07:58.053681Z",
     "shell.execute_reply": "2024-11-27T01:07:58.052181Z"
    },
    "papermill": {
     "duration": 3.858527,
     "end_time": "2024-11-27T01:07:58.056127",
     "exception": false,
     "start_time": "2024-11-27T01:07:54.197600",
     "status": "completed"
    },
    "tags": []
   },
   "outputs": [],
   "source": [
    "# import libraries\n",
    "import pandas as pd\n",
    "import numpy as np\n",
    "import seaborn as sns\n",
    "import matplotlib.pyplot as plt\n",
    "import plotly.express as px\n",
    "import plotly.graph_objects as go\n",
    "from plotly.subplots import make_subplots\n",
    "import plotly.subplots as sp\n",
    "import altair as alt\n",
    "import random\n",
    "from IPython.display import display, HTML\n",
    "from matplotlib.colors import LinearSegmentedColormap\n",
    "# ignore warnings\n",
    "import warnings\n",
    "warnings.filterwarnings(\"ignore\")"
   ]
  },
  {
   "cell_type": "code",
   "execution_count": 2,
   "id": "9cfa353f",
   "metadata": {
    "execution": {
     "iopub.execute_input": "2024-11-27T01:07:58.063683Z",
     "iopub.status.busy": "2024-11-27T01:07:58.063130Z",
     "iopub.status.idle": "2024-11-27T01:07:58.112913Z",
     "shell.execute_reply": "2024-11-27T01:07:58.111719Z"
    },
    "papermill": {
     "duration": 0.056366,
     "end_time": "2024-11-27T01:07:58.115534",
     "exception": false,
     "start_time": "2024-11-27T01:07:58.059168",
     "status": "completed"
    },
    "tags": []
   },
   "outputs": [
    {
     "name": "stdout",
     "output_type": "stream",
     "text": [
      "<class 'pandas.core.frame.DataFrame'>\n",
      "RangeIndex: 136 entries, 0 to 135\n",
      "Data columns (total 9 columns):\n",
      " #   Column             Non-Null Count  Dtype \n",
      "---  ------             --------------  ----- \n",
      " 0   gameId             136 non-null    int64 \n",
      " 1   season             136 non-null    int64 \n",
      " 2   week               136 non-null    int64 \n",
      " 3   gameDate           136 non-null    object\n",
      " 4   gameTimeEastern    136 non-null    object\n",
      " 5   homeTeamAbbr       136 non-null    object\n",
      " 6   visitorTeamAbbr    136 non-null    object\n",
      " 7   homeFinalScore     136 non-null    int64 \n",
      " 8   visitorFinalScore  136 non-null    int64 \n",
      "dtypes: int64(5), object(4)\n",
      "memory usage: 9.7+ KB\n",
      "Data types and non-null counts:\n",
      " None\n"
     ]
    }
   ],
   "source": [
    "# Data types and non-null counts\n",
    "df=pd.read_csv(\"/kaggle/input/nfl-big-data-bowl-2025/games.csv\")\n",
    "print(\"Data types and non-null counts:\\n\", df.info())"
   ]
  },
  {
   "cell_type": "code",
   "execution_count": 3,
   "id": "a1f71507",
   "metadata": {
    "execution": {
     "iopub.execute_input": "2024-11-27T01:07:58.123375Z",
     "iopub.status.busy": "2024-11-27T01:07:58.122966Z",
     "iopub.status.idle": "2024-11-27T01:07:58.130742Z",
     "shell.execute_reply": "2024-11-27T01:07:58.129480Z"
    },
    "papermill": {
     "duration": 0.015237,
     "end_time": "2024-11-27T01:07:58.134124",
     "exception": false,
     "start_time": "2024-11-27T01:07:58.118887",
     "status": "completed"
    },
    "tags": []
   },
   "outputs": [
    {
     "name": "stdout",
     "output_type": "stream",
     "text": [
      "Unique game IDs: 136\n"
     ]
    }
   ],
   "source": [
    "# Verify unique gameId values to ensure no duplicates\n",
    "print(\"Unique game IDs:\", df['gameId'].nunique())"
   ]
  },
  {
   "cell_type": "code",
   "execution_count": 4,
   "id": "01d4d28f",
   "metadata": {
    "execution": {
     "iopub.execute_input": "2024-11-27T01:07:58.141549Z",
     "iopub.status.busy": "2024-11-27T01:07:58.141185Z",
     "iopub.status.idle": "2024-11-27T01:07:58.149587Z",
     "shell.execute_reply": "2024-11-27T01:07:58.148074Z"
    },
    "papermill": {
     "duration": 0.015384,
     "end_time": "2024-11-27T01:07:58.152514",
     "exception": false,
     "start_time": "2024-11-27T01:07:58.137130",
     "status": "completed"
    },
    "tags": []
   },
   "outputs": [
    {
     "name": "stdout",
     "output_type": "stream",
     "text": [
      "The Minimum Game id of the players according to this Dataset is: 2022090800\n",
      "The Maximum Game id of the players according to this Dataset is: 2022110700\n"
     ]
    }
   ],
   "source": [
    "min_gameid=df[\"gameId\"].min()\n",
    "print(\"The Minimum Game id of the players according to this Dataset is:\", min_gameid)\n",
    "max_gameid=df[\"gameId\"].max()\n",
    "print(\"The Maximum Game id of the players according to this Dataset is:\", max_gameid)"
   ]
  },
  {
   "cell_type": "code",
   "execution_count": 5,
   "id": "295a9bc6",
   "metadata": {
    "execution": {
     "iopub.execute_input": "2024-11-27T01:07:58.160285Z",
     "iopub.status.busy": "2024-11-27T01:07:58.159853Z",
     "iopub.status.idle": "2024-11-27T01:07:58.166826Z",
     "shell.execute_reply": "2024-11-27T01:07:58.165419Z"
    },
    "papermill": {
     "duration": 0.013537,
     "end_time": "2024-11-27T01:07:58.169164",
     "exception": false,
     "start_time": "2024-11-27T01:07:58.155627",
     "status": "completed"
    },
    "tags": []
   },
   "outputs": [
    {
     "name": "stdout",
     "output_type": "stream",
     "text": [
      "The Minimum Game season for the players according to this Dataset is: 2022\n",
      "The Maximum Game season for the players according to this Dataset is: 2022\n"
     ]
    }
   ],
   "source": [
    "min_season=df[\"season\"].min()\n",
    "print(\"The Minimum Game season for the players according to this Dataset is:\", min_season)\n",
    "max_season=df[\"season\"].max()\n",
    "print(\"The Maximum Game season for the players according to this Dataset is:\", max_season)"
   ]
  },
  {
   "cell_type": "code",
   "execution_count": 6,
   "id": "5a5a5c59",
   "metadata": {
    "execution": {
     "iopub.execute_input": "2024-11-27T01:07:58.176968Z",
     "iopub.status.busy": "2024-11-27T01:07:58.176581Z",
     "iopub.status.idle": "2024-11-27T01:07:58.183567Z",
     "shell.execute_reply": "2024-11-27T01:07:58.182634Z"
    },
    "papermill": {
     "duration": 0.0141,
     "end_time": "2024-11-27T01:07:58.186473",
     "exception": false,
     "start_time": "2024-11-27T01:07:58.172373",
     "status": "completed"
    },
    "tags": []
   },
   "outputs": [
    {
     "name": "stdout",
     "output_type": "stream",
     "text": [
      "The data spans from the first game on 10/10/2022 to the last game on 9/8/2022\n"
     ]
    }
   ],
   "source": [
    "# Get the unique seasons and teams\n",
    "unique_seasons = df['season'].unique()\n",
    "unique_teams = df['homeTeamAbbr'].unique()\n",
    "\n",
    "# Get the first and last game dates\n",
    "first_game_date = df['gameDate'].min()  # Assuming 'gameDate' column contains the game date\n",
    "last_game_date = df['gameDate'].max()\n",
    "\n",
    "# Print the first and last game dates\n",
    "print(\"The data spans from the first game on\", first_game_date, \"to the last game on\", last_game_date)"
   ]
  },
  {
   "cell_type": "code",
   "execution_count": 7,
   "id": "b5c90314",
   "metadata": {
    "execution": {
     "iopub.execute_input": "2024-11-27T01:07:58.194822Z",
     "iopub.status.busy": "2024-11-27T01:07:58.194420Z",
     "iopub.status.idle": "2024-11-27T01:07:58.205740Z",
     "shell.execute_reply": "2024-11-27T01:07:58.204641Z"
    },
    "papermill": {
     "duration": 0.01836,
     "end_time": "2024-11-27T01:07:58.207946",
     "exception": false,
     "start_time": "2024-11-27T01:07:58.189586",
     "status": "completed"
    },
    "tags": []
   },
   "outputs": [],
   "source": [
    "# 홈 팀이 이긴 경기\n",
    "home_wins = df[df['homeFinalScore'] > df['visitorFinalScore']]\n",
    "\n",
    "# 방문 팀이 이긴 경기\n",
    "visitor_wins = df[df['homeFinalScore'] < df['visitorFinalScore']]\n",
    "\n",
    "# 홈 팀과 방문 팀 각각의 승리 횟수 계산\n",
    "home_win_counts = home_wins['homeTeamAbbr'].value_counts()\n",
    "visitor_win_counts = visitor_wins['visitorTeamAbbr'].value_counts()"
   ]
  },
  {
   "cell_type": "code",
   "execution_count": 8,
   "id": "2d02ca29",
   "metadata": {
    "execution": {
     "iopub.execute_input": "2024-11-27T01:07:58.217312Z",
     "iopub.status.busy": "2024-11-27T01:07:58.216111Z",
     "iopub.status.idle": "2024-11-27T01:07:59.130802Z",
     "shell.execute_reply": "2024-11-27T01:07:59.129680Z"
    },
    "papermill": {
     "duration": 0.921393,
     "end_time": "2024-11-27T01:07:59.133155",
     "exception": false,
     "start_time": "2024-11-27T01:07:58.211762",
     "status": "completed"
    },
    "tags": []
   },
   "outputs": [
    {
     "data": {
      "image/png": "[encoded data removed]",
      "text/plain": [
       "<Figure size 1400x700 with 1 Axes>"
      ]
     },
     "metadata": {},
     "output_type": "display_data"
    }
   ],
   "source": [
    "import pandas as pd\n",
    "import seaborn as sns\n",
    "\n",
    "# 데이터를 하나의 데이터프레임으로 병합\n",
    "home_win_df = pd.DataFrame({'Team': home_win_counts.index, 'Wins': home_win_counts.values, 'Type': 'Home'})\n",
    "visitor_win_df = pd.DataFrame({'Team': visitor_win_counts.index, 'Wins': visitor_win_counts.values, 'Type': 'Visitor'})\n",
    "win_data = pd.concat([home_win_df, visitor_win_df])\n",
    "\n",
    "# 시각화\n",
    "plt.figure(figsize=(14, 7))\n",
    "sns.barplot(x='Team', y='Wins', hue='Type', data=win_data, palette='viridis')\n",
    "\n",
    "# 그래프 꾸미기\n",
    "plt.title('Home vs Visitor Team Wins', fontsize=16)\n",
    "plt.xlabel('Teams', fontsize=12)\n",
    "plt.ylabel('Win Count', fontsize=12)\n",
    "plt.xticks(rotation=45, ha='right')\n",
    "plt.legend(title='Win Type')\n",
    "\n",
    "# 출력\n",
    "plt.tight_layout()\n",
    "plt.show()"
   ]
  }
 ],
 "metadata": {
  "kaggle": {
   "accelerator": "none",
   "dataSources": [
    {
     "databundleVersionId": 9816926,
     "sourceId": 84175,
     "sourceType": "competition"
    }
   ],
   "dockerImageVersionId": 30786,
   "isGpuEnabled": false,
   "isInternetEnabled": true,
   "language": "python",
   "sourceType": "notebook"
  },
  "kernelspec": {
   "display_name": "Python 3",
   "language": "python",
   "name": "python3"
  },
  "language_info": {
   "codemirror_mode": {
    "name": "ipython",
    "version": 3
   },
   "file_extension": ".py",
   "mimetype": "text/x-python",
   "name": "python",
   "nbconvert_exporter": "python",
   "pygments_lexer": "ipython3",
   "version": "3.10.14"
  },
  "papermill": {
   "default_parameters": {},
   "duration": 8.555195,
   "end_time": "2024-11-27T01:07:59.858826",
   "environment_variables": {},
   "exception": null,
   "input_path": "__notebook__.ipynb",
   "output_path": "__notebook__.ipynb",
   "parameters": {},
   "start_time": "2024-11-27T01:07:51.303631",
   "version": "2.6.0"
  }
 },
 "nbformat": 4,
 "nbformat_minor": 5
}
